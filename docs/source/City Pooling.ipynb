{
 "cells": [
  {
   "cell_type": "markdown",
   "metadata": {},
   "source": [
    "# City Pooling Notebook \n",
    "## Introduction\n",
    "### Problem statement\n",
    "\n",
    "This problem has been submitted by one of my colleagues. Besides being both a nice guy and a talented developper, he also is the president of the roller federation. He therefore has to sometimes participate in the construction of french roller hockey tournaments.\n",
    "\n",
    "That is where he sometimes is faced with quite a challenge: dividing dozens of teams from various cities into smaller groups, which will then compete in round-robin tournaments. The problem is that he must try to be as efficient as possible when it comes to the cost of travel for each team. The cost of a scenario may be something as simple as the sum of total distance traveled by the teams, but it can also get far more complicated when trying to add some fairness to it: \n",
    "- trying to minimze the distance run by the team with the greatest one\n",
    "- adding other criteria to the cost function: adding the standard deviation of total distance for each team to the overall cost\n",
    "- putting some weight over the \"richest\" teams by considering the cost of distance being smaller for them...\n",
    "\n",
    "The simplest case would be minimizing total distance run by all teams, and after analysis: given points on a plane, how do I split them in same size groups so that total distance between points in the same group is minimized? \n",
    "\n",
    "\n",
    "\n",
    "![title](img/16_cities.png)\n",
    "<i><center>Example of 16 cities to split into 4 pools of 4</center></i>\n",
    "\n",
    "\n",
    "### Why does this problem seem interesting to me?\n",
    "Besides the immediate reward of being helpful to a colleague, the more I gave thought to this problem, the more I noticed that it presents many nice aspects:\n",
    "- being kind of \"trading salesman\"-ish, it looks like it would be an endless playground for optimization\n",
    "- furthermore, many python functionalities and libraries might get involved: iterators and generators, decorators, graphical tools from matplotlib and seaborn, file writing and reading to get some persistence, calls to Google Maps API to work on real life data... \n",
    "- last but not least, when I first got to see some solutions on problem small enough to be *brutally* solved, I noticed that I could have had them simplified (sometimes solved!) just by looking at it. I might in the end get some Machine Learning algorithms working on this subject.\n",
    "\n",
    "### Disclaimer\n",
    "I am definitely not a professional developper (yet?), and my sometimes cumbersome logic or alien syntax might make seasoned readers cringe. I definitely am open to any suggestion as to improve the following."
   ]
  },
  {
   "cell_type": "markdown",
   "metadata": {},
   "source": [
    "### Imports\n",
    "The below imports are used in this notebook (yet this would require some cleansing as some of them are not required here anymore)."
   ]
  },
  {
   "cell_type": "code",
   "execution_count": null,
   "metadata": {},
   "outputs": [],
   "source": [
    "# imports\n",
    "import numpy as np\n",
    "import pandas as pd\n",
    "import matplotlib.pyplot as plt\n",
    "from matplotlib.colors import LogNorm\n",
    "import seaborn as sns\n",
    "from itertools import combinations\n",
    "from itertools import cycle\n",
    "from copy import deepcopy\n",
    "from collections import defaultdict\n",
    "from math import factorial\n",
    "import sys\n",
    "import os\n",
    "\n",
    "sys.path.append(os.path.abspath('../../src/'))\n",
    "import geography.geography as geo\n",
    "import solver.scorer as scorer\n",
    "import importlib"
   ]
  },
  {
   "cell_type": "markdown",
   "metadata": {},
   "source": [
    "As I update as I go the packages where the classes are defined, the lines below enable to reload my packages without having to restart the whole kernel."
   ]
  },
  {
   "cell_type": "code",
   "execution_count": null,
   "metadata": {},
   "outputs": [],
   "source": [
    "# cell to reload modules\n",
    "def reload_all():\n",
    "    importlib.reload(geo)\n",
    "    importlib.reload(scorer)   "
   ]
  },
  {
   "cell_type": "markdown",
   "metadata": {},
   "source": [
    "## Geography\n",
    "\n",
    "### What for?\n",
    "First of all, I will define a class that will hold the distance cost between cities. For the first run of optimization, I will work with cost between two cities being the distance between them. That will enable me to visually check whether my code is possibly giving acurate results or being completely dumb.\n",
    "\n",
    "I want that class to allow me to \n",
    "- create a map of cities from coordinates, or randomly set one up\n",
    "- assign them names\n",
    "- compute the distance matrix between every couple of cities\n",
    "- show a visual representation of the map\n",
    "- apply and give a visual representation of a configuration\n",
    "- compute the cost of a configuration\n",
    "\n",
    "This class will then be extended as to get real data, for example from the Google Maps APIs.\n",
    "\n",
    "### Class definition\n",
    "\n",
    "Class definition is all set up in the `geography.geography` module."
   ]
  },
  {
   "cell_type": "markdown",
   "metadata": {},
   "source": [
    "### Examples\n",
    "#### Constructor and `show` method\n",
    "##### Random constructor \n",
    "Constructor without parameters will just create a random map of n cities with default names, and compute the distance matrix with the \"natural\" euclidean distance.\n",
    "Explaination of the distance matrix is provided in the second example."
   ]
  },
  {
   "cell_type": "code",
   "execution_count": null,
   "metadata": {
    "scrolled": false
   },
   "outputs": [],
   "source": [
    "geog = geo.Geography(16)\n",
    "geog.show(show_names=True, dist_matrix_kwargs={'annot':True})"
   ]
  },
  {
   "cell_type": "markdown",
   "metadata": {},
   "source": [
    "##### Forced coordinates constructor\n",
    "It is also possible to force cities coordinates with a numpy array of shape (2, n) or the names of the cities with\n",
    "an iterable of names.\n",
    "Here, I will create a meshgrid of 16 cities, with a unit space of 1 between cities."
   ]
  },
  {
   "cell_type": "code",
   "execution_count": null,
   "metadata": {
    "scrolled": false
   },
   "outputs": [],
   "source": [
    "x, y = np.mgrid[0:4,0:4]\n",
    "pos = np.vstack( [x.ravel(), y.ravel()] )\n",
    "\n",
    "names = [\n",
    "    \"0. Paris\",\n",
    "    \"1. Montpellier\",\n",
    "    \"2. Marseille\",\n",
    "    \"3. Bordeaux\",\n",
    "    \"4. Lyon\",\n",
    "    \"5. Lille\",\n",
    "    \"6. Rennes\",\n",
    "    \"7. Clermont-Ferrand\",\n",
    "    \"8. Aix en Provence\",\n",
    "    \"9. Toulouse\",\n",
    "    \"10. Perpignan\",\n",
    "    \"11. Pau\",\n",
    "    \"12. Orléans\",\n",
    "    \"13. Dijon\",\n",
    "    \"14. Metz\",\n",
    "    \"15. Nancy\"\n",
    "]\n",
    "\n",
    "geog = geo.Geography(16, cities_coordinates=pos, cities_names=names)\n",
    "geog.show(show_names=True, dist_matrix_kwargs={'annot':True})"
   ]
  },
  {
   "cell_type": "markdown",
   "metadata": {},
   "source": [
    "In this example, you can see that distance from `0. Paris` to `1. Montpellier` is 1. As Euclidean distance is symetrical (dist(a,b) = dist(b,a)), so is the distance matrix.\n",
    "\n",
    "I could have limited the distance matrix to its superior half, but I might encounter cases where going form a to b is longer (or more costly) than getting from b to a."
   ]
  },
  {
   "cell_type": "markdown",
   "metadata": {},
   "source": [
    "#### `show_config` method\n",
    "The `show_config` method enables to apply a configuration to a geography, and display it.\n",
    "\n",
    "A configuration is a dict :\n",
    "\n",
    "   - with integer keys\n",
    "   - with iterables of city indexes as values\n",
    "\n",
    "As per the problem definition, a city index should only appear in a single pool, and only once in that pool, yet no restriction has been set in the source code.\n",
    "\n",
    "##### `show_config` with pools as set\n",
    "A way to modelize a pool would be a python set, as it enforces the fact that inside a pool, a city may only appear once. Yet it has a serious drawback."
   ]
  },
  {
   "cell_type": "code",
   "execution_count": null,
   "metadata": {},
   "outputs": [],
   "source": [
    "geog.show_config({0 : set([2,6,1]), 1: set([11,14,15]), 2: set([4,13,10])}, show_names=True, \n",
    "                 dist_matrix_kwargs={'annot':True})"
   ]
  },
  {
   "cell_type": "markdown",
   "metadata": {},
   "source": [
    "The first cities in the first set were `0 : set([2,6,1])` and therefore first pool in the reordered distance matrix should have been `2: Marseille, 6: Rennes, 1: Montpellier`.\n",
    "\n",
    "Note that python sets are unordered, this is why in the distance matrix in the above example inside a pool no order is applied and results in `1: Montpellier, 2: Marseille, 6: Rennes`\n",
    "\n",
    "##### `show_config` with pools as lists\n",
    "If I want to maintain an order inside each pool - which I will want to do later on - I need to use lists (see just below)."
   ]
  },
  {
   "cell_type": "code",
   "execution_count": null,
   "metadata": {},
   "outputs": [],
   "source": [
    "geog.show_config({0 : [2,6,1], 1: [11,14,15], 2: [4,13,10]}, show_names=True, \n",
    "                 dist_matrix_kwargs={'annot':True})"
   ]
  },
  {
   "cell_type": "markdown",
   "metadata": {},
   "source": [
    "Here, the order inside each pool has been kept.\n",
    "\n",
    "##### Why choosing configuration to be a dict rather than another iterable?\n",
    "It might seem weird to choose to use a dict rather than a list for a configuration. But in future works, if I try to work on pools which are not the same size, I will need to build an enumeration system (and therefore need to be able to get to a pool with an integer index)."
   ]
  },
  {
   "cell_type": "markdown",
   "metadata": {},
   "source": [
    "### Random and optimal solution to the meshgrid problem\n",
    "\n",
    "Let's now try to compare the (trivial) solution of this problem (a 4x4 grid is not much of a challenge!) and a random one. For this example, I will try to minimize the total distance traveled by all teams.\n",
    "\n",
    "First, I need to create a random configuration."
   ]
  },
  {
   "cell_type": "code",
   "execution_count": null,
   "metadata": {},
   "outputs": [],
   "source": [
    "rand_perm = np.array(range(16))\n",
    "print(rand_perm)\n",
    "np.random.shuffle(rand_perm)\n",
    "print(rand_perm)\n",
    "rand_configuration = {i: list(rand_perm[4*i:4*(i+1)]) for i in range(4)}\n",
    "print(rand_configuration)"
   ]
  },
  {
   "cell_type": "code",
   "execution_count": null,
   "metadata": {},
   "outputs": [],
   "source": [
    "geog.show_config(rand_configuration, show_names=True, \n",
    "                 dist_matrix_kwargs={'annot':True})"
   ]
  },
  {
   "cell_type": "code",
   "execution_count": null,
   "metadata": {},
   "outputs": [],
   "source": [
    "geog.show_config({0 : [0,1,4,5], 1: [2,3,6,7], 2: [8,9,12,13], 3: [10,11,14,15]}, show_names=True, \n",
    "                 dist_matrix_kwargs={'annot':True})"
   ]
  },
  {
   "cell_type": "markdown",
   "metadata": {},
   "source": [
    "One nice thing to notice is that finding a solution to the problem consists in permuting the cities in pools so that the lightest cells in the distance matrix get closest to the diagonal."
   ]
  },
  {
   "cell_type": "markdown",
   "metadata": {},
   "source": [
    "## Solver\n",
    "### What for?\n",
    "Obviously, to solve the problem! That means: find the configuration that minimize my criterion cost.\n",
    "\n",
    "The solver package will have some submodules:\n",
    "\n",
    "- a `scorer` module, that will provide a class enabling to compute the cost of a configuration applied to a geography\n",
    "- a `scoring_funcs` module, which will be a library of various scoring functions\n",
    "- a `solver` module, that will provide various algorithms to find a globally or locally optimal solution to the problem\n"
   ]
  },
  {
   "cell_type": "code",
   "execution_count": null,
   "metadata": {},
   "outputs": [],
   "source": [
    "myScorer = scorer.Scorer(geog)\n",
    "print(myScorer.score({0 : [0,1,4,5], 1: [2,3,6,7], 2: [8,9,12,13], 3: [10,11,14,15]}))"
   ]
  }
 ],
 "metadata": {
  "kernelspec": {
   "display_name": "Python 3",
   "language": "python",
   "name": "python3"
  },
  "language_info": {
   "codemirror_mode": {
    "name": "ipython",
    "version": 3
   },
   "file_extension": ".py",
   "mimetype": "text/x-python",
   "name": "python",
   "nbconvert_exporter": "python",
   "pygments_lexer": "ipython3",
   "version": "3.7.4"
  }
 },
 "nbformat": 4,
 "nbformat_minor": 2
}
